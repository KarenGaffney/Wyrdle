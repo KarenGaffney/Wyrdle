{
  "nbformat": 4,
  "nbformat_minor": 0,
  "metadata": {
    "colab": {
      "name": "WYRDLE.ipynb",
      "provenance": [],
      "collapsed_sections": [],
      "authorship_tag": "ABX9TyMM2FwiaEaa+6JyEk2TX5JJ",
      "include_colab_link": true
    },
    "kernelspec": {
      "name": "python3",
      "display_name": "Python 3"
    },
    "language_info": {
      "name": "python"
    }
  },
  "cells": [
    {
      "cell_type": "markdown",
      "metadata": {
        "id": "view-in-github",
        "colab_type": "text"
      },
      "source": [
        "<a href=\"https://colab.research.google.com/github/Sugi1999/Wyrdle/blob/main/WYRDLE.ipynb\" target=\"_parent\"><img src=\"https://colab.research.google.com/assets/colab-badge.svg\" alt=\"Open In Colab\"/></a>"
      ]
    },
    {
      "cell_type": "markdown",
      "source": [
        "##Don't look at me I'm ugly"
      ],
      "metadata": {
        "id": "XzO9Y3DGswNy"
      }
    },
    {
      "cell_type": "code",
      "source": [
        "import pandas as pd\n",
        "import numpy as np\n",
        "import random"
      ],
      "metadata": {
        "id": "cn-LFsb3xS3M"
      },
      "execution_count": 2,
      "outputs": []
    },
    {
      "cell_type": "code",
      "source": [
        "url = 'https://raw.githubusercontent.com/Sugi1999/Wyrdle/main/Wyrdle%20Words.csv'\n",
        "\n",
        "word_database = pd.read_csv(url)\n",
        "word_database = list(word_database['which'])\n",
        "word_database.append('which')\n",
        "\n",
        "letters_left = ['A', 'B', 'C', 'D', 'E', 'F', 'G', 'H', 'I', 'J', 'K', 'L', 'M', 'N', 'O', 'P', 'Q', 'R', 'S', 'T', 'U', 'V', 'W', 'X', 'Y', 'Z']\n",
        "letters_yellow = []\n",
        "letters_green = []\n",
        "letters_dead = []\n",
        "\n",
        "avg_score = 0\n",
        "win_ratio = 0\n",
        "game_count = 0\n"
      ],
      "metadata": {
        "id": "3HeSudxyxP3-"
      },
      "execution_count": 3,
      "outputs": []
    },
    {
      "cell_type": "code",
      "source": [
        "def get_answer():\n",
        "  answer = random.choice(word_database)\n",
        "  answer = answer.upper()\n",
        "  wordle_answer = {'0': answer[0], '1': answer[1], '2': answer[2], '3': answer[3], '4': answer[4]}\n",
        "  return answer, wordle_answer"
      ],
      "metadata": {
        "id": "ZVBEu7KCQ6oJ"
      },
      "execution_count": 4,
      "outputs": []
    },
    {
      "cell_type": "code",
      "source": [
        "def color_correct(x, col_index):\n",
        "  global letters_left\n",
        "  global letters_green\n",
        "  global letters_yellow\n",
        "  global lettesr_dead\n",
        "  x = list(x)\n",
        "  colors = []\n",
        "  for letter in x:\n",
        "    if letter == wordle_answer[col_index]:\n",
        "      colors.append(f\"color: {'green'};\" )\n",
        "      if letter not in letters_green:\n",
        "        letters_green.append(letter)\n",
        "      if letter in letters_left:\n",
        "        letters_left.remove(letter)\n",
        "      if letter in letters_yellow:\n",
        "        letters_yellow.remove(letter)\n",
        "    elif letter in list(wordle_answer.values()):\n",
        "      colors.append(f\"color: {'yellow'};\" )\n",
        "      if letter not in letters_yellow:\n",
        "        letters_yellow.append(letter)\n",
        "      if letter in letters_left:\n",
        "        letters_left.remove(letter)\n",
        "    else:\n",
        "      colors.append(None)\n",
        "      if letter not in letters_dead:\n",
        "        letters_dead.append(letter)\n",
        "      if letter in letters_left:\n",
        "        letters_left.remove(letter)\n",
        "  return colors\n",
        "\n",
        "def display_correct(wordle_guess):\n",
        "  df =  pd.DataFrame(wordle_guess)\n",
        "  #wordle_answer['0']\n",
        "  s = df.style.apply(color_correct, col_index='0', subset='0') \n",
        "  s.apply(color_correct, col_index='1', subset='1') \n",
        "  s.apply(color_correct, col_index='2', subset='2') \n",
        "  s.apply(color_correct, col_index='3', subset='3') \n",
        "  s.apply(color_correct, col_index='4', subset='4') \n",
        "  s.set_properties(**{\n",
        "    'background-color': 'black',\n",
        "    'font-size': '30pt',\n",
        "  })\n",
        "  display(s)\n",
        "  global letters_green\n",
        "  global letters_yellow\n",
        "  global letters_dead\n",
        "  global letters_left\n",
        "  letters_green.sort()\n",
        "  letters_yellow.sort()\n",
        "  letters_dead.sort()\n",
        "  print('Letters Green', letters_green)\n",
        "  print('Letters Yellow', letters_yellow)\n",
        "  print('Letters Left', letters_left)\n",
        "\n",
        "\n",
        "#wordle_answer = {'0': 'D', '1': 'R', '2': 'I', '3': 'N', '4': 'K'}\n",
        "#wordle_guess = {'0': ['B', 'L'], '1': ['L', 'D'], '2': ['I', \"I\"], '3': ['N', \"N\"], '4': ['K', 'K']}\n",
        "#df =  pd.DataFrame(wordle_guess)"
      ],
      "metadata": {
        "id": "K8jTJmhFdlo2"
      },
      "execution_count": 5,
      "outputs": []
    },
    {
      "cell_type": "code",
      "source": [
        "def check_guess(guess):\n",
        "  guess = guess.lower()\n",
        "  if guess == '69' or guess == 'sex':\n",
        "    print('nice')\n",
        "    return\n",
        "  #check length\n",
        "  if len(guess) != 5:\n",
        "    print('Please enter a 5 letter word')\n",
        "    return\n",
        "  #check all letters\n",
        "  if not guess.isalpha():\n",
        "    print('Please enter a 5 letter word')\n",
        "    return\n",
        "  #check real word \n",
        "  if guess not in list(word_database):\n",
        "    print('Word not in database')\n",
        "    return\n",
        "  return guess.upper()\n"
      ],
      "metadata": {
        "id": "i4d4qqu_uOg0"
      },
      "execution_count": 6,
      "outputs": []
    },
    {
      "cell_type": "code",
      "source": [
        "def make_wordle_dic(guess, wordle_guess):\n",
        "  for n in range(5):\n",
        "    new = wordle_guess[str(n)]\n",
        "    new.append(guess[n])\n",
        "    wordle_guess[str(n)] = new\n",
        "  return wordle_guess\n",
        "\n",
        "#wordle_guess = {'0': ['B', 'L'], '1': ['L', 'D'], '2': ['I', \"I\"], '3': ['N', \"N\"], '4': ['K', 'K']}\n",
        "#guess = 'BARNY'\n",
        "#make_wordle_dic(guess)"
      ],
      "metadata": {
        "id": "_Jk7FNFtz1aX"
      },
      "execution_count": 7,
      "outputs": []
    },
    {
      "cell_type": "code",
      "source": [
        "def reset():\n",
        "  global wordle_guess\n",
        "  wordle_guess = {'0': [], '1': [], '2': [], '3': [], '4': []}\n",
        "  global wordle_answer\n",
        "  global answer\n",
        "  answer, wordle_answer = get_answer()\n",
        "  df =  pd.DataFrame(wordle_guess)\n",
        "  s = df.style.apply(color_correct, col_index='0', subset='0') \n",
        "  count = 0\n",
        "  global letters_left\n",
        "  global letters_yellow\n",
        "  global letters_green\n",
        "  global letters_dead\n",
        "  letters_left = ['A', 'B', 'C', 'D', 'E', 'F', 'G', 'H', 'I', 'J', 'K', 'L', 'M', 'N', 'O', 'P', 'Q', 'R', 'S', 'T', 'U', 'V', 'W', 'X', 'Y', 'Z']\n",
        "  letters_yellow = []\n",
        "  letters_green = []\n",
        "  letters_dead = []\n",
        "\n",
        "  "
      ],
      "metadata": {
        "id": "cfVg7C4CIgFe"
      },
      "execution_count": 8,
      "outputs": []
    },
    {
      "cell_type": "code",
      "source": [
        "def score_calculator(guess_num, win=True):\n",
        "  global avg_score\n",
        "  global win_ratio\n",
        "  global game_count\n",
        "  game_count += 1\n",
        "  \n",
        "  if win:\n",
        "    avg_score = (avg_score + guess_num) / game_count\n",
        "  if win:\n",
        "    win_ratio = (win_ratio + 1) / game_count\n",
        "  else:\n",
        "    win_ratio = win_ratio / game_count\n",
        "\n",
        "  print('You have a win ratio of', win_ratio*100, '%')\n",
        "  print('Your average score is', str(avg_score) + '/6 guesses')\n",
        "  \n",
        "\n",
        "  \n",
        "\n",
        "  \n"
      ],
      "metadata": {
        "id": "TQD2CX9f_Mfu"
      },
      "execution_count": 9,
      "outputs": []
    },
    {
      "cell_type": "code",
      "source": [
        "global wordle_guess\n",
        "wordle_guess = {'0': [], '1': [], '2': [], '3': [], '4': []}\n",
        "global wordle_answer\n",
        "global answer\n",
        "answer, wordle_answer = get_answer()"
      ],
      "metadata": {
        "id": "5PUyP6IuPCWJ"
      },
      "execution_count": 10,
      "outputs": []
    },
    {
      "cell_type": "code",
      "source": [
        "wordle_guess = {'0': [], '1': [], '2': [], '3': [], '4': []}\n",
        "\n",
        "def main(guess):\n",
        "  is_reset = False\n",
        "  global wordle_guess\n",
        "  guess = check_guess(guess)\n",
        "  if guess is None:\n",
        "    return\n",
        "  #if 'wordle_guess' not in locals():\n",
        "  #  wordle_guess = {'0': [], '1': [], '2': [], '3': [], '4': []}\n",
        "  wordle_guess = make_wordle_dic(guess, wordle_guess)\n",
        " \n",
        "  count = len(wordle_guess['0'])\n",
        "  #success\n",
        "  #print(answer)\n",
        "  if guess == answer:\n",
        "    print('Congratulations!')\n",
        "    print('Achieved in ' + str(count) + '/6 tries')\n",
        "    is_reset = True\n",
        "    win = True\n",
        "  #fail\n",
        "  elif count >=6:\n",
        "    print('Fail')\n",
        "    print('Word was', answer)\n",
        "    is_reset = True\n",
        "    win = False\n",
        "  display_correct(wordle_guess)\n",
        "  if is_reset:\n",
        "    score_calculator(count, win)\n",
        "    reset()\n",
        "    is_reset = False\n",
        "    \n",
        "  "
      ],
      "metadata": {
        "id": "Z0tXh0ETspGx"
      },
      "execution_count": 11,
      "outputs": []
    },
    {
      "cell_type": "markdown",
      "source": [
        "## WELCOME TO WYRDLE\n",
        "\n",
        "Guess the five letter word. Correct letters in the correct place will return a green letter, and correct letters in incorrect places will return a yellow letter.\n",
        "\n",
        "Press the play button (or ctrl + enter when in the cell) to submit your guess. "
      ],
      "metadata": {
        "id": "7p_6RCDeqKsN"
      }
    },
    {
      "cell_type": "code",
      "source": [
        "guess = input(\"Enter your guess: \")\n",
        "main(guess)"
      ],
      "metadata": {
        "colab": {
          "base_uri": "https://localhost:8080/",
          "height": 208
        },
        "id": "gV19OULNqQwR",
        "outputId": "fb017c65-9326-4ab2-ac6a-a9d254302bc4"
      },
      "execution_count": 12,
      "outputs": [
        {
          "name": "stdout",
          "output_type": "stream",
          "text": [
            "Enter your guess: train\n"
          ]
        },
        {
          "output_type": "display_data",
          "data": {
            "text/html": [
              "<style type=\"text/css\">\n",
              "#T_632ca_row0_col0, #T_632ca_row0_col2 {\n",
              "  color: yellow;\n",
              "  background-color: black;\n",
              "  font-size: 30pt;\n",
              "}\n",
              "#T_632ca_row0_col1, #T_632ca_row0_col3, #T_632ca_row0_col4 {\n",
              "  background-color: black;\n",
              "  font-size: 30pt;\n",
              "}\n",
              "</style>\n",
              "<table id=\"T_632ca_\" class=\"dataframe\">\n",
              "  <thead>\n",
              "    <tr>\n",
              "      <th class=\"blank level0\" >&nbsp;</th>\n",
              "      <th class=\"col_heading level0 col0\" >0</th>\n",
              "      <th class=\"col_heading level0 col1\" >1</th>\n",
              "      <th class=\"col_heading level0 col2\" >2</th>\n",
              "      <th class=\"col_heading level0 col3\" >3</th>\n",
              "      <th class=\"col_heading level0 col4\" >4</th>\n",
              "    </tr>\n",
              "  </thead>\n",
              "  <tbody>\n",
              "    <tr>\n",
              "      <th id=\"T_632ca_level0_row0\" class=\"row_heading level0 row0\" >0</th>\n",
              "      <td id=\"T_632ca_row0_col0\" class=\"data row0 col0\" >T</td>\n",
              "      <td id=\"T_632ca_row0_col1\" class=\"data row0 col1\" >R</td>\n",
              "      <td id=\"T_632ca_row0_col2\" class=\"data row0 col2\" >A</td>\n",
              "      <td id=\"T_632ca_row0_col3\" class=\"data row0 col3\" >I</td>\n",
              "      <td id=\"T_632ca_row0_col4\" class=\"data row0 col4\" >N</td>\n",
              "    </tr>\n",
              "  </tbody>\n",
              "</table>\n"
            ],
            "text/plain": [
              "<pandas.io.formats.style.Styler at 0x7fb9dcdf0f90>"
            ]
          },
          "metadata": {}
        },
        {
          "output_type": "stream",
          "name": "stdout",
          "text": [
            "Letters Green []\n",
            "Letters Yellow ['A', 'T']\n",
            "Letters Left ['B', 'C', 'D', 'E', 'F', 'G', 'H', 'J', 'K', 'L', 'M', 'O', 'P', 'Q', 'S', 'U', 'V', 'W', 'X', 'Y', 'Z']\n"
          ]
        }
      ]
    },
    {
      "cell_type": "code",
      "source": [
        "# run this cell to look at your previous guesses\n",
        "display_correct(wordle_guess)"
      ],
      "metadata": {
        "colab": {
          "base_uri": "https://localhost:8080/",
          "height": 191
        },
        "id": "QCE1JAhgrlm3",
        "outputId": "fffdb1e8-26af-4ad3-b4fa-78e807cfe217"
      },
      "execution_count": 13,
      "outputs": [
        {
          "output_type": "display_data",
          "data": {
            "text/html": [
              "<style type=\"text/css\">\n",
              "#T_6d940_row0_col0, #T_6d940_row0_col2 {\n",
              "  color: yellow;\n",
              "  background-color: black;\n",
              "  font-size: 30pt;\n",
              "}\n",
              "#T_6d940_row0_col1, #T_6d940_row0_col3, #T_6d940_row0_col4 {\n",
              "  background-color: black;\n",
              "  font-size: 30pt;\n",
              "}\n",
              "</style>\n",
              "<table id=\"T_6d940_\" class=\"dataframe\">\n",
              "  <thead>\n",
              "    <tr>\n",
              "      <th class=\"blank level0\" >&nbsp;</th>\n",
              "      <th class=\"col_heading level0 col0\" >0</th>\n",
              "      <th class=\"col_heading level0 col1\" >1</th>\n",
              "      <th class=\"col_heading level0 col2\" >2</th>\n",
              "      <th class=\"col_heading level0 col3\" >3</th>\n",
              "      <th class=\"col_heading level0 col4\" >4</th>\n",
              "    </tr>\n",
              "  </thead>\n",
              "  <tbody>\n",
              "    <tr>\n",
              "      <th id=\"T_6d940_level0_row0\" class=\"row_heading level0 row0\" >0</th>\n",
              "      <td id=\"T_6d940_row0_col0\" class=\"data row0 col0\" >T</td>\n",
              "      <td id=\"T_6d940_row0_col1\" class=\"data row0 col1\" >R</td>\n",
              "      <td id=\"T_6d940_row0_col2\" class=\"data row0 col2\" >A</td>\n",
              "      <td id=\"T_6d940_row0_col3\" class=\"data row0 col3\" >I</td>\n",
              "      <td id=\"T_6d940_row0_col4\" class=\"data row0 col4\" >N</td>\n",
              "    </tr>\n",
              "  </tbody>\n",
              "</table>\n"
            ],
            "text/plain": [
              "<pandas.io.formats.style.Styler at 0x7fb9dc524710>"
            ]
          },
          "metadata": {}
        },
        {
          "output_type": "stream",
          "name": "stdout",
          "text": [
            "Letters Green []\n",
            "Letters Yellow ['A', 'T']\n",
            "Letters Left ['B', 'C', 'D', 'E', 'F', 'G', 'H', 'J', 'K', 'L', 'M', 'O', 'P', 'Q', 'S', 'U', 'V', 'W', 'X', 'Y', 'Z']\n"
          ]
        }
      ]
    }
  ]
}